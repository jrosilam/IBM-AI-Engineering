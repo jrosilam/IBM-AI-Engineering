{
 "cells": [
  {
   "cell_type": "markdown",
   "metadata": {},
   "source": [
    "# Build a Regression Model in Keras\n",
    "IBM AI Engineering\n",
    "Jesus R Rosila Mares"
   ]
  },
  {
   "cell_type": "markdown",
   "metadata": {},
   "source": [
    "## Load python packages."
   ]
  },
  {
   "cell_type": "code",
   "execution_count": 34,
   "metadata": {},
   "outputs": [],
   "source": [
    "import keras\n",
    "from keras.models import Sequential\n",
    "from keras.layers import Dense\n",
    "import pandas as pd\n",
    "from sklearn.model_selection import train_test_split\n",
    "from sklearn.preprocessing import normalize\n",
    "from sklearn.metrics import mean_squared_error as mse\n",
    "from scipy.stats import zscore\n",
    "import statistics"
   ]
  },
  {
   "cell_type": "markdown",
   "metadata": {},
   "source": [
    "## A. Build a baseline model (5 marks) \n",
    "\n",
    "Use the Keras library to build a neural network with the following:\n",
    "\n",
    "- One hidden layer of 10 nodes, and a ReLU activation function\n",
    "- Use the adam optimizer and the mean squared error  as the loss function.\n",
    "\n",
    "1. Randomly split the data into a training and test sets by holding 30% of the data for testing. You can use the train_test_splithelper function from Scikit-learn.\n",
    "1. Train the model on the training data using 50 epochs.\n",
    "1. Evaluate the model on the test data and compute the mean squared error between the predicted concrete strength and the actual concrete strength. You can use the mean_squared_error function from Scikit-learn.\n",
    "1. Repeat steps 1 - 3, 50 times, i.e., create a list of 50 mean squared errors.\n",
    "1. Report the mean and the standard deviation of the mean squared errors.\n",
    "\n",
    "Submit your Jupyter Notebook with your code and comments."
   ]
  },
  {
   "cell_type": "markdown",
   "metadata": {},
   "source": [
    "Load Data in,"
   ]
  },
  {
   "cell_type": "code",
   "execution_count": 7,
   "metadata": {},
   "outputs": [
    {
     "data": {
      "text/html": [
       "<div>\n",
       "<style scoped>\n",
       "    .dataframe tbody tr th:only-of-type {\n",
       "        vertical-align: middle;\n",
       "    }\n",
       "\n",
       "    .dataframe tbody tr th {\n",
       "        vertical-align: top;\n",
       "    }\n",
       "\n",
       "    .dataframe thead th {\n",
       "        text-align: right;\n",
       "    }\n",
       "</style>\n",
       "<table border=\"1\" class=\"dataframe\">\n",
       "  <thead>\n",
       "    <tr style=\"text-align: right;\">\n",
       "      <th></th>\n",
       "      <th>Cement</th>\n",
       "      <th>Blast Furnace Slag</th>\n",
       "      <th>Fly Ash</th>\n",
       "      <th>Water</th>\n",
       "      <th>Superplasticizer</th>\n",
       "      <th>Coarse Aggregate</th>\n",
       "      <th>Fine Aggregate</th>\n",
       "      <th>Age</th>\n",
       "      <th>Strength</th>\n",
       "    </tr>\n",
       "  </thead>\n",
       "  <tbody>\n",
       "    <tr>\n",
       "      <th>0</th>\n",
       "      <td>540.0</td>\n",
       "      <td>0.0</td>\n",
       "      <td>0.0</td>\n",
       "      <td>162.0</td>\n",
       "      <td>2.5</td>\n",
       "      <td>1040.0</td>\n",
       "      <td>676.0</td>\n",
       "      <td>28</td>\n",
       "      <td>79.99</td>\n",
       "    </tr>\n",
       "    <tr>\n",
       "      <th>1</th>\n",
       "      <td>540.0</td>\n",
       "      <td>0.0</td>\n",
       "      <td>0.0</td>\n",
       "      <td>162.0</td>\n",
       "      <td>2.5</td>\n",
       "      <td>1055.0</td>\n",
       "      <td>676.0</td>\n",
       "      <td>28</td>\n",
       "      <td>61.89</td>\n",
       "    </tr>\n",
       "    <tr>\n",
       "      <th>2</th>\n",
       "      <td>332.5</td>\n",
       "      <td>142.5</td>\n",
       "      <td>0.0</td>\n",
       "      <td>228.0</td>\n",
       "      <td>0.0</td>\n",
       "      <td>932.0</td>\n",
       "      <td>594.0</td>\n",
       "      <td>270</td>\n",
       "      <td>40.27</td>\n",
       "    </tr>\n",
       "    <tr>\n",
       "      <th>3</th>\n",
       "      <td>332.5</td>\n",
       "      <td>142.5</td>\n",
       "      <td>0.0</td>\n",
       "      <td>228.0</td>\n",
       "      <td>0.0</td>\n",
       "      <td>932.0</td>\n",
       "      <td>594.0</td>\n",
       "      <td>365</td>\n",
       "      <td>41.05</td>\n",
       "    </tr>\n",
       "    <tr>\n",
       "      <th>4</th>\n",
       "      <td>198.6</td>\n",
       "      <td>132.4</td>\n",
       "      <td>0.0</td>\n",
       "      <td>192.0</td>\n",
       "      <td>0.0</td>\n",
       "      <td>978.4</td>\n",
       "      <td>825.5</td>\n",
       "      <td>360</td>\n",
       "      <td>44.30</td>\n",
       "    </tr>\n",
       "  </tbody>\n",
       "</table>\n",
       "</div>"
      ],
      "text/plain": [
       "   Cement  Blast Furnace Slag  Fly Ash  Water  Superplasticizer  \\\n",
       "0   540.0                 0.0      0.0  162.0               2.5   \n",
       "1   540.0                 0.0      0.0  162.0               2.5   \n",
       "2   332.5               142.5      0.0  228.0               0.0   \n",
       "3   332.5               142.5      0.0  228.0               0.0   \n",
       "4   198.6               132.4      0.0  192.0               0.0   \n",
       "\n",
       "   Coarse Aggregate  Fine Aggregate  Age  Strength  \n",
       "0            1040.0           676.0   28     79.99  \n",
       "1            1055.0           676.0   28     61.89  \n",
       "2             932.0           594.0  270     40.27  \n",
       "3             932.0           594.0  365     41.05  \n",
       "4             978.4           825.5  360     44.30  "
      ]
     },
     "execution_count": 7,
     "metadata": {},
     "output_type": "execute_result"
    }
   ],
   "source": [
    "concrete_data = pd.read_csv('csv/concrete_data.csv')\n",
    "concrete_data.head()"
   ]
  },
  {
   "cell_type": "markdown",
   "metadata": {},
   "source": [
    "Split data 30%"
   ]
  },
  {
   "cell_type": "code",
   "execution_count": 11,
   "metadata": {},
   "outputs": [],
   "source": [
    "Y = concrete_data['Strength']\n",
    "X = concrete_data.drop('Strength', axis = 1)\n",
    "x_train, x_test, y_train, y_test = train_test_split(X, Y, test_size = 0.30)\n",
    "\n",
    "n_cols = x_train.shape[1] "
   ]
  },
  {
   "cell_type": "markdown",
   "metadata": {},
   "source": [
    "Create regression model"
   ]
  },
  {
   "cell_type": "code",
   "execution_count": 12,
   "metadata": {},
   "outputs": [],
   "source": [
    "def regression_model():\n",
    "    # create model\n",
    "    model = Sequential()\n",
    "    model.add(Dense(10, activation='relu', input_shape=(n_cols,)))\n",
    "    model.add(Dense(1))\n",
    "    \n",
    "    # compile model\n",
    "    model.compile(optimizer='adam', loss='mean_squared_error')\n",
    "    return model"
   ]
  },
  {
   "cell_type": "markdown",
   "metadata": {},
   "source": [
    "Build and fit model"
   ]
  },
  {
   "cell_type": "code",
   "execution_count": null,
   "metadata": {},
   "outputs": [],
   "source": [
    "# build the model\n",
    "model = regression_model()\n",
    "# fit the model\n",
    "model.fit(x_train, y_train, epochs=50, verbose=2)"
   ]
  },
  {
   "cell_type": "markdown",
   "metadata": {},
   "source": [
    "Predict Model"
   ]
  },
  {
   "cell_type": "code",
   "execution_count": 27,
   "metadata": {},
   "outputs": [
    {
     "name": "stdout",
     "output_type": "stream",
     "text": [
      "10/10 [==============================] - 0s 667us/step\n"
     ]
    },
    {
     "data": {
      "text/plain": [
       "100.67298915297974"
      ]
     },
     "execution_count": 27,
     "metadata": {},
     "output_type": "execute_result"
    }
   ],
   "source": [
    "y_hat = model.predict(x_test)\n",
    "mse(y_test,y_hat)"
   ]
  },
  {
   "cell_type": "markdown",
   "metadata": {},
   "source": [
    "Repeat 50 times"
   ]
  },
  {
   "cell_type": "code",
   "execution_count": null,
   "metadata": {},
   "outputs": [],
   "source": [
    "mse_list = []\n",
    "for i in range(50):\n",
    "    x_train, x_test, y_train, y_test = train_test_split(X, Y, test_size = 0.30)\n",
    "    # build the model\n",
    "    model = regression_model()\n",
    "    # fit the model\n",
    "    model.fit(x_train, y_train, epochs=50, verbose=2)\n",
    "    y_hat = model.predict(x_test)\n",
    "    mse_list.append(mse(y_test,y_hat))\n",
    "mse_list"
   ]
  },
  {
   "cell_type": "code",
   "execution_count": 44,
   "metadata": {},
   "outputs": [
    {
     "name": "stdout",
     "output_type": "stream",
     "text": [
      "mean: 297.5059847323687\n",
      "stdev: 327.744595398036\n"
     ]
    }
   ],
   "source": [
    "mse_list_mean = statistics.fmean(mse_list)\n",
    "mse_list_stdev = statistics.stdev(mse_list)\n",
    "print(f\"mean: {mse_list_mean}\")\n",
    "print(f\"stdev: {mse_list_stdev}\")"
   ]
  },
  {
   "cell_type": "markdown",
   "metadata": {},
   "source": [
    "## B. Normalize the data (5 marks)\n",
    "\n",
    "Repeat Part A but use a normalized version of the data. Recall that one way to normalize the data is by subtracting the mean from the individual predictors and dividing by the standard deviation.\n",
    "\n",
    "**How does the mean of the mean squared errors compare to that from Step A?**"
   ]
  },
  {
   "cell_type": "markdown",
   "metadata": {},
   "source": [
    "normalize"
   ]
  },
  {
   "cell_type": "code",
   "execution_count": 19,
   "metadata": {},
   "outputs": [],
   "source": [
    "## same as z-score\n",
    "# x_train_norm = (x_train - x_train.mean()) / x_train.std()\n",
    "# x_test_norm = (x_test - x_test.mean()) / x_test.std()\n",
    "x_train_norm = zscore(x_train)\n",
    "x_test_norm = zscore(x_test)"
   ]
  },
  {
   "cell_type": "markdown",
   "metadata": {},
   "source": [
    "Run again 50 times"
   ]
  },
  {
   "cell_type": "code",
   "execution_count": null,
   "metadata": {},
   "outputs": [],
   "source": [
    "mse_list_norm = []\n",
    "for i in range(50):\n",
    "    x_train, x_test, y_train, y_test = train_test_split(X, Y, test_size = 0.30)\n",
    "    # get z-score\n",
    "    x_train_norm = zscore(x_train)\n",
    "    x_test_norm = zscore(x_test) \n",
    "    # build the model\n",
    "    model = regression_model()\n",
    "    # fit the model\n",
    "    model.fit(x_train_norm, y_train, epochs=50, verbose=2)\n",
    "    y_hat = model.predict(x_test_norm)\n",
    "    mse_list_norm.append(mse(y_test,y_hat))\n",
    "mse_list_norm"
   ]
  },
  {
   "cell_type": "markdown",
   "metadata": {},
   "source": [
    "Recalculate mean and stdev"
   ]
  },
  {
   "cell_type": "code",
   "execution_count": 57,
   "metadata": {},
   "outputs": [
    {
     "name": "stdout",
     "output_type": "stream",
     "text": [
      "mean: 255.83734102494208\n",
      "stdev:  106.53062156076223\n"
     ]
    }
   ],
   "source": [
    "mse_list_norm_mean = statistics.fmean(mse_list_norm)\n",
    "mse_list_norm_stdev = statistics.stdev(mse_list_norm)\n",
    "print(f\"mean: {mse_list_norm_mean}\")\n",
    "print(f\"stdev:  {mse_list_norm_stdev}\")"
   ]
  },
  {
   "cell_type": "markdown",
   "metadata": {},
   "source": [
    "Differences"
   ]
  },
  {
   "cell_type": "code",
   "execution_count": 52,
   "metadata": {},
   "outputs": [
    {
     "name": "stdout",
     "output_type": "stream",
     "text": [
      "Differences in mean are: -50.047644537493625\n",
      "Differences in stdev are: 253.60377415288892\n"
     ]
    }
   ],
   "source": [
    "mse_list_norm_b_mean_dif = mse_list_mean - mse_list_norm_mean\n",
    "mse_list_norm_b_stdev_dif = mse_list_stdev - mse_list_norm_stdev\n",
    "print(f\"Differences in mean are: {mse_list_norm_b_mean_dif}\")\n",
    "print(f\"Differences in stdev are: {mse_list_norm_b_stdev_dif}\")"
   ]
  },
  {
   "cell_type": "markdown",
   "metadata": {},
   "source": [
    "## C. Increate the number of epochs (5 marks)\n",
    "\n",
    "Repeat Part B but use 100 epochs this time for training.\n",
    "\n",
    "**How does the mean of the mean squared errors compare to that from Step B?**"
   ]
  },
  {
   "cell_type": "markdown",
   "metadata": {},
   "source": [
    "100 times part b"
   ]
  },
  {
   "cell_type": "code",
   "execution_count": null,
   "metadata": {},
   "outputs": [],
   "source": [
    "mse_list_norm_100 = []\n",
    "for i in range(50):\n",
    "    x_train, x_test, y_train, y_test = train_test_split(X, Y, test_size = 0.30)\n",
    "    # get z-score\n",
    "    x_train_norm = zscore(x_train)\n",
    "    x_test_norm = zscore(x_test) \n",
    "    # build the model\n",
    "    model = regression_model()\n",
    "    # fit the model\n",
    "    model.fit(x_train_norm, y_train, epochs=100, verbose=2)\n",
    "    y_hat = model.predict(x_test_norm)\n",
    "    mse_list_norm_100.append(mse(y_test,y_hat))\n",
    "mse_list_norm_100"
   ]
  },
  {
   "cell_type": "markdown",
   "metadata": {},
   "source": [
    "mean and stdev"
   ]
  },
  {
   "cell_type": "code",
   "execution_count": 58,
   "metadata": {},
   "outputs": [
    {
     "name": "stdout",
     "output_type": "stream",
     "text": [
      "mean: 165.0207396666802\n",
      "stdev:  21.389476492897696\n"
     ]
    }
   ],
   "source": [
    "mse_list_norm_100_mean = statistics.fmean(mse_list_norm_100)\n",
    "mse_list_norm_100_stdev = statistics.stdev(mse_list_norm_100)\n",
    "print(f\"mean: {mse_list_norm_100_mean}\")\n",
    "print(f\"stdev:  {mse_list_norm_100_stdev}\")"
   ]
  },
  {
   "cell_type": "markdown",
   "metadata": {},
   "source": [
    "differences within part b"
   ]
  },
  {
   "cell_type": "code",
   "execution_count": 59,
   "metadata": {},
   "outputs": [
    {
     "name": "stdout",
     "output_type": "stream",
     "text": [
      "Differences in mean are: -90.81660135826186\n",
      "Differences in stdev are: -234.44786453204438\n"
     ]
    }
   ],
   "source": [
    "mse_list_norm_c_mean_dif = mse_list_norm_100_mean - mse_list_norm_mean\n",
    "mse_list_norm_c_stdev_dif = mse_list_norm_100_stdev - mse_list_norm_mean\n",
    "print(f\"Differences in mean are: {mse_list_norm_c_mean_dif}\")\n",
    "print(f\"Differences in stdev are: {mse_list_norm_c_stdev_dif}\")"
   ]
  },
  {
   "cell_type": "markdown",
   "metadata": {},
   "source": [
    "## D. Increase the number of hidden layers (5 marks)\n",
    "\n",
    "Repeat part B but use a neural network with the following instead:\n",
    "- Three hidden layers, each of 10 nodes and ReLU activation function.   \n",
    "**How does the mean of the mean squared errors compare to that from Step B?**"
   ]
  },
  {
   "cell_type": "markdown",
   "metadata": {},
   "source": [
    "new model"
   ]
  },
  {
   "cell_type": "code",
   "execution_count": 60,
   "metadata": {},
   "outputs": [],
   "source": [
    "def regression_model2():\n",
    "    # create model\n",
    "    model = Sequential()\n",
    "    model.add(Dense(10, activation='relu', input_shape=(n_cols,)))\n",
    "    model.add(Dense(10, activation='relu'))\n",
    "    model.add(Dense(10, activation='relu'))\n",
    "    model.add(Dense(1))\n",
    "    \n",
    "    # compile model\n",
    "    model.compile(optimizer='adam', loss='mean_squared_error')\n",
    "    return model"
   ]
  },
  {
   "cell_type": "markdown",
   "metadata": {},
   "source": [
    "run 50 times, new hidden networks"
   ]
  },
  {
   "cell_type": "code",
   "execution_count": null,
   "metadata": {},
   "outputs": [],
   "source": [
    "mse_list_norm_2hiden = []\n",
    "for i in range(50):\n",
    "    x_train, x_test, y_train, y_test = train_test_split(X, Y, test_size = 0.30)\n",
    "    # get z-score\n",
    "    x_train_norm = zscore(x_train)\n",
    "    x_test_norm = zscore(x_test) \n",
    "    # build the model\n",
    "    model = regression_model2()\n",
    "    # fit the model\n",
    "    model.fit(x_train_norm, y_train, epochs=50, verbose=2)\n",
    "    y_hat = model.predict(x_test_norm)\n",
    "    mse_list_norm_2hiden.append(mse(y_test,y_hat))\n",
    "mse_list_norm_2hiden"
   ]
  },
  {
   "cell_type": "markdown",
   "metadata": {},
   "source": [
    "Mean and Stdev"
   ]
  },
  {
   "cell_type": "code",
   "execution_count": 62,
   "metadata": {},
   "outputs": [
    {
     "name": "stdout",
     "output_type": "stream",
     "text": [
      "mean: 130.13237697384304\n",
      "stdev:  16.200913249985895\n"
     ]
    }
   ],
   "source": [
    "mse_list_norm_2hiden_mean = statistics.fmean(mse_list_norm_2hiden)\n",
    "mse_list_norm_2hiden_stdev = statistics.stdev(mse_list_norm_2hiden)\n",
    "print(f\"mean: {mse_list_norm_2hiden_mean}\")\n",
    "print(f\"stdev:  {mse_list_norm_2hiden_stdev}\")"
   ]
  },
  {
   "cell_type": "markdown",
   "metadata": {},
   "source": [
    "difference from part b"
   ]
  },
  {
   "cell_type": "code",
   "execution_count": 63,
   "metadata": {},
   "outputs": [
    {
     "name": "stdout",
     "output_type": "stream",
     "text": [
      "Differences in mean are: -125.70496405109904\n",
      "Differences in stdev are: -239.6364277749562\n"
     ]
    }
   ],
   "source": [
    "mse_list_norm_d_mean_dif = mse_list_norm_2hiden_mean - mse_list_norm_mean\n",
    "mse_list_norm_d_stdev_dif = mse_list_norm_2hiden_stdev - mse_list_norm_mean\n",
    "print(f\"Differences in mean are: {mse_list_norm_d_mean_dif}\")\n",
    "print(f\"Differences in stdev are: {mse_list_norm_d_stdev_dif}\")"
   ]
  }
 ],
 "metadata": {
  "kernelspec": {
   "display_name": "Python 3.10.1 64-bit",
   "language": "python",
   "name": "python3"
  },
  "language_info": {
   "codemirror_mode": {
    "name": "ipython",
    "version": 3
   },
   "file_extension": ".py",
   "mimetype": "text/x-python",
   "name": "python",
   "nbconvert_exporter": "python",
   "pygments_lexer": "ipython3",
   "version": "3.10.1"
  },
  "orig_nbformat": 4,
  "vscode": {
   "interpreter": {
    "hash": "ad2b602d900782d1669cfe4adc170349fca2d944c0dfaa7982a8f0f32d4ec4d5"
   }
  }
 },
 "nbformat": 4,
 "nbformat_minor": 2
}
